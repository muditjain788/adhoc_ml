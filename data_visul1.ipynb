{
  "nbformat": 4,
  "nbformat_minor": 0,
  "metadata": {
    "colab": {
      "name": "data_visul1.ipynb",
      "version": "0.3.2",
      "provenance": [],
      "include_colab_link": true
    },
    "kernelspec": {
      "name": "python3",
      "display_name": "Python 3"
    }
  },
  "cells": [
    {
      "cell_type": "markdown",
      "metadata": {
        "id": "view-in-github",
        "colab_type": "text"
      },
      "source": [
        "<a href=\"https://colab.research.google.com/github/muditjain788/adhoc_ml/blob/master/data_visul1.ipynb\" target=\"_parent\"><img src=\"https://colab.research.google.com/assets/colab-badge.svg\" alt=\"Open In Colab\"/></a>"
      ]
    },
    {
      "cell_type": "code",
      "metadata": {
        "id": "aDU8wfxo_oEy",
        "colab_type": "code",
        "colab": {}
      },
      "source": [
        "import matplotlib.pyplot as mp"
      ],
      "execution_count": 0,
      "outputs": []
    },
    {
      "cell_type": "code",
      "metadata": {
        "id": "XM30KouNARIk",
        "colab_type": "code",
        "colab": {}
      },
      "source": [
        "import numpy as np\n",
        "import csv\n",
        "import pandas as pd\n",
        "\n",
        "arr=np.array([['student_name','marks','age','contact','study_hours'],\n",
        "             ['mudit',100,19,7688822033,6],\n",
        "            ['mohit',80,20,907909352,8],\n",
        "            ['manas',60,20,999999999,9],\n",
        "            ['jayesh',40,21,8888888888,10]])"
      ],
      "execution_count": 0,
      "outputs": []
    },
    {
      "cell_type": "code",
      "metadata": {
        "id": "FjTOvHqhBt_Y",
        "colab_type": "code",
        "colab": {
          "base_uri": "https://localhost:8080/",
          "height": 104
        },
        "outputId": "55abc3c8-11ac-40d6-e229-19b6d05d69fa"
      },
      "source": [
        "arr"
      ],
      "execution_count": 28,
      "outputs": [
        {
          "output_type": "execute_result",
          "data": {
            "text/plain": [
              "array([['student_name', 'marks', 'age', 'contact', 'study_hours'],\n",
              "       ['mudit', '100', '19', '7688822033', '6'],\n",
              "       ['mohit', '80', '20', '907909352', '8'],\n",
              "       ['manas', '60', '20', '999999999', '9'],\n",
              "       ['jayesh', '40', '21', '8888888888', '10']], dtype='<U12')"
            ]
          },
          "metadata": {
            "tags": []
          },
          "execution_count": 28
        }
      ]
    },
    {
      "cell_type": "code",
      "metadata": {
        "id": "7kMYLIvaBxsK",
        "colab_type": "code",
        "colab": {}
      },
      "source": [
        "#creating csv file name student.ccv\n",
        "with open('student.csv','w') as file:\n",
        "  wrt=csv.writer(file)\n",
        "  wrt.writerows(arr)\n",
        "  file.close()"
      ],
      "execution_count": 0,
      "outputs": []
    },
    {
      "cell_type": "code",
      "metadata": {
        "id": "S5dceZtnCfHc",
        "colab_type": "code",
        "colab": {
          "base_uri": "https://localhost:8080/",
          "height": 175
        },
        "outputId": "6ef60116-6f9e-4406-ca51-b9af766952e0"
      },
      "source": [
        "df=pd.read_csv('student.csv')\n",
        "df\n",
        "\n"
      ],
      "execution_count": 30,
      "outputs": [
        {
          "output_type": "execute_result",
          "data": {
            "text/html": [
              "<div>\n",
              "<style scoped>\n",
              "    .dataframe tbody tr th:only-of-type {\n",
              "        vertical-align: middle;\n",
              "    }\n",
              "\n",
              "    .dataframe tbody tr th {\n",
              "        vertical-align: top;\n",
              "    }\n",
              "\n",
              "    .dataframe thead th {\n",
              "        text-align: right;\n",
              "    }\n",
              "</style>\n",
              "<table border=\"1\" class=\"dataframe\">\n",
              "  <thead>\n",
              "    <tr style=\"text-align: right;\">\n",
              "      <th></th>\n",
              "      <th>student_name</th>\n",
              "      <th>marks</th>\n",
              "      <th>age</th>\n",
              "      <th>contact</th>\n",
              "      <th>study_hours</th>\n",
              "    </tr>\n",
              "  </thead>\n",
              "  <tbody>\n",
              "    <tr>\n",
              "      <th>0</th>\n",
              "      <td>mudit</td>\n",
              "      <td>100</td>\n",
              "      <td>19</td>\n",
              "      <td>7688822033</td>\n",
              "      <td>6</td>\n",
              "    </tr>\n",
              "    <tr>\n",
              "      <th>1</th>\n",
              "      <td>mohit</td>\n",
              "      <td>80</td>\n",
              "      <td>20</td>\n",
              "      <td>907909352</td>\n",
              "      <td>8</td>\n",
              "    </tr>\n",
              "    <tr>\n",
              "      <th>2</th>\n",
              "      <td>manas</td>\n",
              "      <td>60</td>\n",
              "      <td>20</td>\n",
              "      <td>999999999</td>\n",
              "      <td>9</td>\n",
              "    </tr>\n",
              "    <tr>\n",
              "      <th>3</th>\n",
              "      <td>jayesh</td>\n",
              "      <td>40</td>\n",
              "      <td>21</td>\n",
              "      <td>8888888888</td>\n",
              "      <td>10</td>\n",
              "    </tr>\n",
              "  </tbody>\n",
              "</table>\n",
              "</div>"
            ],
            "text/plain": [
              "  student_name  marks  age     contact  study_hours\n",
              "0        mudit    100   19  7688822033            6\n",
              "1        mohit     80   20   907909352            8\n",
              "2        manas     60   20   999999999            9\n",
              "3       jayesh     40   21  8888888888           10"
            ]
          },
          "metadata": {
            "tags": []
          },
          "execution_count": 30
        }
      ]
    },
    {
      "cell_type": "code",
      "metadata": {
        "id": "_oxpto09Czde",
        "colab_type": "code",
        "colab": {
          "base_uri": "https://localhost:8080/",
          "height": 191
        },
        "outputId": "d37a81d9-f2f3-4de3-e0d0-d3bcbba42356"
      },
      "source": [
        "df.info()"
      ],
      "execution_count": 31,
      "outputs": [
        {
          "output_type": "stream",
          "text": [
            "<class 'pandas.core.frame.DataFrame'>\n",
            "RangeIndex: 4 entries, 0 to 3\n",
            "Data columns (total 5 columns):\n",
            "student_name    4 non-null object\n",
            "marks           4 non-null int64\n",
            "age             4 non-null int64\n",
            "contact         4 non-null int64\n",
            "study_hours     4 non-null int64\n",
            "dtypes: int64(4), object(1)\n",
            "memory usage: 240.0+ bytes\n"
          ],
          "name": "stdout"
        }
      ]
    },
    {
      "cell_type": "code",
      "metadata": {
        "id": "fkbV98nMDINY",
        "colab_type": "code",
        "colab": {
          "base_uri": "https://localhost:8080/",
          "height": 478
        },
        "outputId": "c4066a9d-20e3-4375-81b8-1df32aeee019"
      },
      "source": [
        "#plotting pie chart\n",
        "student_name=df['student_name']\n",
        "marks=df['marks']\n",
        "age=df['age']\n",
        "contact=df['contact']\n",
        "study_hours=df['study_hours']\n",
        "exp=[0.1,0.2,0.3,0]\n",
        "mp.pie(marks,labels=student_name,explode=exp,autopct='%f%%')\n",
        "\n"
      ],
      "execution_count": 38,
      "outputs": [
        {
          "output_type": "execute_result",
          "data": {
            "text/plain": [
              "([<matplotlib.patches.Wedge at 0x7f22f8bafb38>,\n",
              "  <matplotlib.patches.Wedge at 0x7f22f8bafcc0>,\n",
              "  <matplotlib.patches.Wedge at 0x7f22f8c8dc50>,\n",
              "  <matplotlib.patches.Wedge at 0x7f22f8ce46d8>],\n",
              " [Text(0.5206604580194262, 1.081162655410832, 'mudit'),\n",
              "  Text(-1.2999999999999945, -1.2171478395895002e-07, 'mohit'),\n",
              "  Text(1.9661619009387456e-07, -1.3999999999999861, 'manas'),\n",
              "  Text(0.991065834488076, -0.4772719473323923, 'jayesh')],\n",
              " [Text(0.30371860051133187, 0.6306782156563185, '35.714287%'),\n",
              "  Text(-0.7999999999999966, -7.490140551320001e-08, '28.571430%'),\n",
              "  Text(1.2639612220320507e-07, -0.8999999999999911, '21.428572%'),\n",
              "  Text(0.5405813642662232, -0.2603301530903958, '14.285715%')])"
            ]
          },
          "metadata": {
            "tags": []
          },
          "execution_count": 38
        },
        {
          "output_type": "display_data",
          "data": {
            "image/png": "[encoded data removed]",
            "text/plain": [
              "<Figure size 432x288 with 1 Axes>"
            ]
          },
          "metadata": {
            "tags": []
          }
        }
      ]
    },
    {
      "cell_type": "code",
      "metadata": {
        "id": "SzAfNU0FF0Nm",
        "colab_type": "code",
        "colab": {
          "base_uri": "https://localhost:8080/",
          "height": 463
        },
        "outputId": "1607f0b5-e17c-4e81-d6de-29b7837027e5"
      },
      "source": [
        "mp.pie(study_hours,labels=student_name,explode=exp,autopct='%f%%')"
      ],
      "execution_count": 39,
      "outputs": [
        {
          "output_type": "execute_result",
          "data": {
            "text/plain": [
              "([<matplotlib.patches.Wedge at 0x7f22f8cebf28>,\n",
              "  <matplotlib.patches.Wedge at 0x7f22f8ce9668>,\n",
              "  <matplotlib.patches.Wedge at 0x7f22f8ce9d30>,\n",
              "  <matplotlib.patches.Wedge at 0x7f22f8cfb438>],\n",
              " [Text(1.0095042283533926, 0.648768998131555, 'mudit'),\n",
              "  Text(-0.4251884220220842, 1.2285010402023966, 'mohit'),\n",
              "  Text(-1.299715051600885, -0.5203275743626401, 'manas'),\n",
              "  Text(0.6380627428917056, -0.8960334458788429, 'jayesh')],\n",
              " [Text(0.588877466539479, 0.378448582243407, '18.181819%'),\n",
              "  Text(-0.26165441355205177, 0.7560006401245517, '24.242425%'),\n",
              "  Text(-0.8355311046005689, -0.3344962978045543, '27.272728%'),\n",
              "  Text(0.3480342233954758, -0.48874551593391424, '30.303031%')])"
            ]
          },
          "metadata": {
            "tags": []
          },
          "execution_count": 39
        },
        {
          "output_type": "display_data",
          "data": {
            "image/png": "[encoded data removed]",
            "text/plain": [
              "<Figure size 432x288 with 1 Axes>"
            ]
          },
          "metadata": {
            "tags": []
          }
        }
      ]
    }
  ]
}